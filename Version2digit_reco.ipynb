{
  "cells": [
    {
      "cell_type": "markdown",
      "metadata": {
        "id": "view-in-github",
        "colab_type": "text"
      },
      "source": [
        "<a href=\"https://colab.research.google.com/github/ZeyTrack/digit-recognizer/blob/main/Version2digit_reco.ipynb\" target=\"_parent\"><img src=\"https://colab.research.google.com/assets/colab-badge.svg\" alt=\"Open In Colab\"/></a>"
      ]
    },
    {
      "cell_type": "code",
      "execution_count": 1,
      "metadata": {
        "colab": {
          "base_uri": "https://localhost:8080/"
        },
        "id": "DJHK_f4Iy8Yz",
        "outputId": "ed904710-3d7b-4cec-e2b3-bf52e24cc353"
      },
      "outputs": [
        {
          "output_type": "stream",
          "name": "stdout",
          "text": [
            "Requirement already satisfied: shap in /usr/local/lib/python3.10/dist-packages (0.44.1)\n",
            "Requirement already satisfied: numpy in /usr/local/lib/python3.10/dist-packages (from shap) (1.25.2)\n",
            "Requirement already satisfied: scipy in /usr/local/lib/python3.10/dist-packages (from shap) (1.11.4)\n",
            "Requirement already satisfied: scikit-learn in /usr/local/lib/python3.10/dist-packages (from shap) (1.2.2)\n",
            "Requirement already satisfied: pandas in /usr/local/lib/python3.10/dist-packages (from shap) (1.5.3)\n",
            "Requirement already satisfied: tqdm>=4.27.0 in /usr/local/lib/python3.10/dist-packages (from shap) (4.66.2)\n",
            "Requirement already satisfied: packaging>20.9 in /usr/local/lib/python3.10/dist-packages (from shap) (23.2)\n",
            "Requirement already satisfied: slicer==0.0.7 in /usr/local/lib/python3.10/dist-packages (from shap) (0.0.7)\n",
            "Requirement already satisfied: numba in /usr/local/lib/python3.10/dist-packages (from shap) (0.58.1)\n",
            "Requirement already satisfied: cloudpickle in /usr/local/lib/python3.10/dist-packages (from shap) (2.2.1)\n",
            "Requirement already satisfied: llvmlite<0.42,>=0.41.0dev0 in /usr/local/lib/python3.10/dist-packages (from numba->shap) (0.41.1)\n",
            "Requirement already satisfied: python-dateutil>=2.8.1 in /usr/local/lib/python3.10/dist-packages (from pandas->shap) (2.8.2)\n",
            "Requirement already satisfied: pytz>=2020.1 in /usr/local/lib/python3.10/dist-packages (from pandas->shap) (2023.4)\n",
            "Requirement already satisfied: joblib>=1.1.1 in /usr/local/lib/python3.10/dist-packages (from scikit-learn->shap) (1.3.2)\n",
            "Requirement already satisfied: threadpoolctl>=2.0.0 in /usr/local/lib/python3.10/dist-packages (from scikit-learn->shap) (3.3.0)\n",
            "Requirement already satisfied: six>=1.5 in /usr/local/lib/python3.10/dist-packages (from python-dateutil>=2.8.1->pandas->shap) (1.16.0)\n"
          ]
        }
      ],
      "source": [
        "!pip install -q gradio\n",
        "!pip install shap"
      ]
    },
    {
      "cell_type": "code",
      "source": [
        "pip install --upgrade typing-extensions\n"
      ],
      "metadata": {
        "colab": {
          "base_uri": "https://localhost:8080/"
        },
        "id": "qaquoM1wL0f4",
        "outputId": "ae6b6e61-2416-4fe1-9182-af2a3c177831"
      },
      "execution_count": 2,
      "outputs": [
        {
          "output_type": "stream",
          "name": "stdout",
          "text": [
            "Requirement already satisfied: typing-extensions in /usr/local/lib/python3.10/dist-packages (4.9.0)\n"
          ]
        }
      ]
    },
    {
      "cell_type": "code",
      "execution_count": 3,
      "metadata": {
        "id": "QbRV_gyDzGsD"
      },
      "outputs": [],
      "source": [
        "import pandas as pd\n",
        "import matplotlib.pyplot as plt\n",
        "from sklearn.model_selection import train_test_split\n",
        "from sklearn.preprocessing import OrdinalEncoder, MinMaxScaler\n",
        "import numpy as np\n",
        "from sklearn.metrics import classification_report\n",
        "from sklearn.metrics import confusion_matrix\n",
        "\n",
        "import shap\n",
        "import gradio as gr\n",
        "\n",
        "import tensorflow as tf\n",
        "from tensorflow.keras.models import Sequential"
      ]
    },
    {
      "cell_type": "code",
      "source": [
        "from google.colab import drive\n",
        "drive.mount('/content/drive')"
      ],
      "metadata": {
        "colab": {
          "base_uri": "https://localhost:8080/"
        },
        "id": "sO8SBsKfoYfN",
        "outputId": "873a2350-526d-4b41-fafd-93a64b2c0dea"
      },
      "execution_count": 4,
      "outputs": [
        {
          "output_type": "stream",
          "name": "stdout",
          "text": [
            "Drive already mounted at /content/drive; to attempt to forcibly remount, call drive.mount(\"/content/drive\", force_remount=True).\n"
          ]
        }
      ]
    },
    {
      "cell_type": "code",
      "execution_count": 5,
      "metadata": {
        "id": "hwUzYskpzKEZ"
      },
      "outputs": [],
      "source": [
        "original_data = pd.read_csv('/content/drive/MyDrive/lfd ass2/train.csv')\n",
        "data = original_data.copy()\n",
        "test = pd.read_csv('/content/drive/MyDrive/lfd ass2/test.csv')"
      ]
    },
    {
      "cell_type": "code",
      "execution_count": 6,
      "metadata": {
        "id": "n6PVobF60BcC",
        "colab": {
          "base_uri": "https://localhost:8080/"
        },
        "outputId": "4d13a90f-e213-4243-ff1e-5b98ced39ae6"
      },
      "outputs": [
        {
          "output_type": "execute_result",
          "data": {
            "text/plain": [
              "Index(['label', 'pixel0', 'pixel1', 'pixel2', 'pixel3', 'pixel4', 'pixel5',\n",
              "       'pixel6', 'pixel7', 'pixel8',\n",
              "       ...\n",
              "       'pixel774', 'pixel775', 'pixel776', 'pixel777', 'pixel778', 'pixel779',\n",
              "       'pixel780', 'pixel781', 'pixel782', 'pixel783'],\n",
              "      dtype='object', length=785)"
            ]
          },
          "metadata": {},
          "execution_count": 6
        }
      ],
      "source": [
        "data.columns"
      ]
    },
    {
      "cell_type": "code",
      "source": [
        "\n",
        "# Visualize the first 10 digits\n",
        "fig, ax = plt.subplots(2, 5, figsize=(12, 6))\n",
        "for i in range(10):\n",
        "    plt.subplot(2, 5, i+1)\n",
        "    plt.imshow(data.iloc[i, 1:].values.reshape(28, 28), cmap='gray')\n",
        "    plt.title(f\"Label: {data.iloc[i, 0]}\")\n",
        "plt.show()\n",
        "\n",
        "# Check for class imbalance\n",
        "class_count = data['label'].value_counts()\n",
        "print(f\"Class imbalance: {class_count}\")\n"
      ],
      "metadata": {
        "id": "Fh-KJB7RsSik",
        "colab": {
          "base_uri": "https://localhost:8080/",
          "height": 696
        },
        "outputId": "d13387d8-e993-433f-d027-9263cbd90d38"
      },
      "execution_count": 7,
      "outputs": [
        {
          "output_type": "display_data",
          "data": {
            "text/plain": [
              "<Figure size 1200x600 with 10 Axes>"
            ],
            "image/png": "[encoded data removed]"
          },
          "metadata": {}
        },
        {
          "output_type": "stream",
          "name": "stdout",
          "text": [
            "Class imbalance: 1    4684\n",
            "7    4401\n",
            "3    4351\n",
            "9    4188\n",
            "2    4177\n",
            "6    4137\n",
            "0    4132\n",
            "4    4072\n",
            "8    4063\n",
            "5    3795\n",
            "Name: label, dtype: int64\n"
          ]
        }
      ]
    },
    {
      "cell_type": "markdown",
      "metadata": {
        "id": "dcf9Dc-wK9Io"
      },
      "source": [
        "### 2. Check and clean the data from any missing values or duplications\n",
        "\n",
        "*   List item\n",
        "*   List item\n",
        "\n"
      ]
    },
    {
      "cell_type": "code",
      "source": [
        "# Check for missing values\n",
        "print(f\"Missing values in train set: {data.isnull().sum().sum()}\")\n",
        "print(f\"Missing values in test set: {test.isnull().sum().sum()}\")\n",
        "\n",
        "# Check for duplicates\n",
        "print(f\"Number of duplicates in train set: {data.duplicated().sum()}\")"
      ],
      "metadata": {
        "id": "hy6tiWsjsl1p",
        "colab": {
          "base_uri": "https://localhost:8080/"
        },
        "outputId": "136c5bbc-5df9-4e1d-9501-56de7318958c"
      },
      "execution_count": 8,
      "outputs": [
        {
          "output_type": "stream",
          "name": "stdout",
          "text": [
            "Missing values in train set: 0\n",
            "Missing values in test set: 0\n",
            "Number of duplicates in train set: 0\n"
          ]
        }
      ]
    },
    {
      "cell_type": "code",
      "execution_count": 9,
      "metadata": {
        "id": "vxnpXtUq7U0k"
      },
      "outputs": [],
      "source": [
        "\n",
        "dataX_train = data.drop('label', axis=1)\n",
        "data_label_y_train = data['label']"
      ]
    },
    {
      "cell_type": "markdown",
      "metadata": {
        "id": "wmFv7OSRKPIq"
      },
      "source": [
        "### 3. Scale all the pixels values to be between 0 and 1 (values range from 0 to 255)"
      ]
    },
    {
      "cell_type": "code",
      "source": [
        "# Scale pixel values to be between 0 and 1\n",
        "data.iloc[:, 1:] = data.iloc[:, 1:] / 255.0\n",
        "test = test / 255.0"
      ],
      "metadata": {
        "id": "327iXLR3tbGm",
        "colab": {
          "base_uri": "https://localhost:8080/"
        },
        "outputId": "595c4f0b-05d2-4514-8beb-626e3040cc16"
      },
      "execution_count": 10,
      "outputs": [
        {
          "output_type": "stream",
          "name": "stderr",
          "text": [
            "In a future version, `df.iloc[:, i] = newvals` will attempt to set the values inplace instead of always setting a new array. To retain the old behavior, use either `df[df.columns[i]] = newvals` or, if columns are non-unique, `df.isetitem(i, newvals)`\n"
          ]
        }
      ]
    },
    {
      "cell_type": "markdown",
      "metadata": {
        "id": "4SAyVd-gNQQF"
      },
      "source": [
        "###4. Modelling and Training"
      ]
    },
    {
      "cell_type": "markdown",
      "metadata": {
        "id": "zNvyn0FzN1DV"
      },
      "source": [
        "1. Create your keras model with input, 1 or 2 hidden layers and an output layer with the number of classes in the target variable\n",
        "2. Add 1 or more regularization in the netweork\n",
        "3. Use relu activation function between the input and hidden layer and between the hidden and output layer\n",
        "4. Use softmax activation function after the output layer to have probabilities for each class in the target variable\n",
        "5. Use loss function that is suitable to multiclass classification problems\n",
        "5. detemine the predicted class based on the max probability\n",
        "6. Use Adam optimizer\n",
        "7. Use early stopping\n",
        "8. Use class weights to balance the classes in the target variable\n"
      ]
    },
    {
      "cell_type": "code",
      "source": [
        "#Create your keras model with input, 1 or 2 hidden layers and an output layer with the number of classes in the target variable\n",
        "from keras.models import Sequential\n",
        "from keras.layers import Dense\n",
        "from keras.regularizers import l2\n",
        "tf.random.set_seed(1234)\n",
        "# Define the number of classes in the target variable\n",
        "num_classes = 10\n",
        "\n",
        "# Define the model\n",
        "model = Sequential()\n",
        "\n",
        "# Add the input layer\n",
        "model.add(Dense(512, activation='relu', input_shape=(784,)))\n",
        "\n",
        "# Add the first hidden layer & Add 1 or more regularization in the netweork\n",
        "\n",
        "model.add(Dense(256, activation='relu', kernel_regularizer=l2(0.01)))\n",
        "\n",
        "# Add the second hidden layer (optional)\n",
        "model.add(Dense(128, activation='relu', kernel_regularizer=l2(0.01)))\n",
        "\n",
        "# Add the output layer\n",
        "model.add(Dense(num_classes, activation='softmax'))\n",
        "model.summary()\n",
        "\n"
      ],
      "metadata": {
        "id": "QNceMp_cu7ET",
        "colab": {
          "base_uri": "https://localhost:8080/"
        },
        "outputId": "5927a845-aaca-41a5-f826-a0d9476390ed"
      },
      "execution_count": 11,
      "outputs": [
        {
          "output_type": "stream",
          "name": "stdout",
          "text": [
            "Model: \"sequential\"\n",
            "_________________________________________________________________\n",
            " Layer (type)                Output Shape              Param #   \n",
            "=================================================================\n",
            " dense (Dense)               (None, 512)               401920    \n",
            "                                                                 \n",
            " dense_1 (Dense)             (None, 256)               131328    \n",
            "                                                                 \n",
            " dense_2 (Dense)             (None, 128)               32896     \n",
            "                                                                 \n",
            " dense_3 (Dense)             (None, 10)                1290      \n",
            "                                                                 \n",
            "=================================================================\n",
            "Total params: 567434 (2.16 MB)\n",
            "Trainable params: 567434 (2.16 MB)\n",
            "Non-trainable params: 0 (0.00 Byte)\n",
            "_________________________________________________________________\n"
          ]
        }
      ]
    },
    {
      "cell_type": "code",
      "source": [
        "#Use relu activation function between the input and hidden layer and between the hidden and output layer\n",
        "from keras.models import Sequential\n",
        "from keras.layers import Dense, Activation\n",
        "\n",
        "# Define the model\n",
        "model = Sequential()\n",
        "model.add(Dense(64, input_dim=784, activation='relu'))\n",
        "model.add(Dense(10, activation='relu'))\n",
        "\n",
        "#Use softmax activation function after the output layer to have probabilities for each class in the target variable\n",
        "from keras.models import Sequential\n",
        "from keras.layers import Dense, Activation\n",
        "\n",
        "model = Sequential()\n",
        "model.add(Dense(10, input_shape=(784,)))\n",
        "model.add(Activation('softmax'))"
      ],
      "metadata": {
        "id": "HLzHVuFt30rd"
      },
      "execution_count": 12,
      "outputs": []
    },
    {
      "cell_type": "code",
      "source": [
        "#Use loss function that is suitable to multiclass classification problems\n",
        "from keras.losses import categorical_crossentropy\n",
        "model.compile(loss=categorical_crossentropy, optimizer='adam', metrics=['accuracy'])\n",
        "\n"
      ],
      "metadata": {
        "id": "t3x9cf_c6bcc"
      },
      "execution_count": 13,
      "outputs": []
    },
    {
      "cell_type": "code",
      "source": [
        "#detemine the predicted class based on the max probability\n",
        "\n",
        "\n",
        "# Predict the classes\n",
        "predictions = model.predict(test)\n",
        "\n",
        "# Get the predicted classes\n",
        "predicted_classes = np.argmax(predictions, axis=1)\n",
        "predicted_classes = [1 if p > 0.5 else 0 for p in predicted_classes]"
      ],
      "metadata": {
        "colab": {
          "base_uri": "https://localhost:8080/"
        },
        "id": "X0poTnALil9Z",
        "outputId": "afaed99e-575e-4edf-dbdf-2a89c646ec4a"
      },
      "execution_count": 14,
      "outputs": [
        {
          "output_type": "stream",
          "name": "stdout",
          "text": [
            "875/875 [==============================] - 1s 1ms/step\n"
          ]
        }
      ]
    },
    {
      "cell_type": "code",
      "source": [
        "import pandas as pd\n",
        "import matplotlib.pyplot as plt\n",
        "from sklearn.model_selection import train_test_split\n",
        "from sklearn.preprocessing import OrdinalEncoder, MinMaxScaler\n",
        "import numpy as np\n",
        "from sklearn.metrics import classification_report\n",
        "from sklearn.metrics import confusion_matrix\n",
        "from sklearn.utils.class_weight import compute_class_weight\n",
        "\n",
        "from keras.models import Sequential\n",
        "from keras.layers import Dense\n",
        "from keras.regularizers import l2\n",
        "from keras.optimizers import Adam\n",
        "from keras.callbacks import EarlyStopping\n",
        "\n",
        "\n",
        "# Create class weights to balance the classes\n",
        "class_weights = compute_class_weight('balanced', classes=np.unique(data_label_y_train), y=data_label_y_train)\n",
        "class_weight_dict = dict(enumerate(class_weights))\n",
        "\n",
        "# Split the data into train and validation sets\n",
        "X_train, X_val, y_train, y_val = train_test_split(dataX_train, data_label_y_train, test_size=0.2, random_state=42)\n",
        "\n",
        "# Create your keras model\n",
        "model = Sequential()\n",
        "\n",
        "# Add the input layer\n",
        "model.add(Dense(512, activation='relu', input_shape=(784,)))\n",
        "\n",
        "# Add the first hidden layer with L2 regularization\n",
        "model.add(Dense(256, activation='relu', kernel_regularizer=l2(0.01)))\n",
        "\n",
        "# Add the second hidden layer (optional) with L2 regularization\n",
        "model.add(Dense(128, activation='relu', kernel_regularizer=l2(0.01)))\n",
        "\n",
        "# Add the output layer with softmax activation\n",
        "model.add(Dense(num_classes, activation='softmax'))\n",
        "\n",
        "# Compile the model\n",
        "model.compile(loss='sparse_categorical_crossentropy',  # Use appropriate loss function\n",
        "              optimizer=Adam(),  # Use Adam optimizer\n",
        "              metrics=['accuracy'])\n",
        "\n",
        "# Set up early stopping\n",
        "early_stopping = EarlyStopping(monitor='val_loss', patience=3, restore_best_weights=True)\n",
        "\n",
        "# Train the model\n",
        "history = model.fit(X_train, y_train,\n",
        "                    epochs=20,  # Choose the number of epochs\n",
        "                    batch_size=32,  # Choose the batch size\n",
        "                    validation_data=(X_val, y_val),\n",
        "                    class_weight=class_weight_dict,  # Use class weights\n",
        "                    callbacks=[early_stopping])  # Use early stopping\n",
        "\n",
        "\n"
      ],
      "metadata": {
        "colab": {
          "base_uri": "https://localhost:8080/"
        },
        "id": "6MHw6BV-wVBf",
        "outputId": "7455f7f7-663c-47b8-eb80-4abd5daab889"
      },
      "execution_count": 15,
      "outputs": [
        {
          "output_type": "stream",
          "name": "stdout",
          "text": [
            "Epoch 1/20\n",
            "1050/1050 [==============================] - 6s 4ms/step - loss: 4.7685 - accuracy: 0.8836 - val_loss: 2.5720 - val_accuracy: 0.9306\n",
            "Epoch 2/20\n",
            "1050/1050 [==============================] - 5s 4ms/step - loss: 1.7523 - accuracy: 0.9508 - val_loss: 1.2344 - val_accuracy: 0.9429\n",
            "Epoch 3/20\n",
            "1050/1050 [==============================] - 4s 3ms/step - loss: 0.8087 - accuracy: 0.9640 - val_loss: 0.6321 - val_accuracy: 0.9473\n",
            "Epoch 4/20\n",
            "1050/1050 [==============================] - 4s 4ms/step - loss: 0.4167 - accuracy: 0.9657 - val_loss: 0.3451 - val_accuracy: 0.9586\n",
            "Epoch 5/20\n",
            "1050/1050 [==============================] - 5s 5ms/step - loss: 0.2559 - accuracy: 0.9673 - val_loss: 0.2546 - val_accuracy: 0.9594\n",
            "Epoch 6/20\n",
            "1050/1050 [==============================] - 4s 4ms/step - loss: 0.1872 - accuracy: 0.9715 - val_loss: 0.2566 - val_accuracy: 0.9486\n",
            "Epoch 7/20\n",
            "1050/1050 [==============================] - 4s 3ms/step - loss: 0.1579 - accuracy: 0.9723 - val_loss: 0.2034 - val_accuracy: 0.9582\n",
            "Epoch 8/20\n",
            "1050/1050 [==============================] - 5s 5ms/step - loss: 0.1380 - accuracy: 0.9745 - val_loss: 0.1720 - val_accuracy: 0.9632\n",
            "Epoch 9/20\n",
            "1050/1050 [==============================] - 4s 3ms/step - loss: 0.1174 - accuracy: 0.9776 - val_loss: 0.1780 - val_accuracy: 0.9619\n",
            "Epoch 10/20\n",
            "1050/1050 [==============================] - 4s 4ms/step - loss: 0.1061 - accuracy: 0.9801 - val_loss: 0.1930 - val_accuracy: 0.9601\n",
            "Epoch 11/20\n",
            "1050/1050 [==============================] - 4s 4ms/step - loss: 0.0873 - accuracy: 0.9841 - val_loss: 0.1666 - val_accuracy: 0.9656\n",
            "Epoch 12/20\n",
            "1050/1050 [==============================] - 4s 4ms/step - loss: 0.0872 - accuracy: 0.9840 - val_loss: 0.1730 - val_accuracy: 0.9650\n",
            "Epoch 13/20\n",
            "1050/1050 [==============================] - 4s 3ms/step - loss: 0.0753 - accuracy: 0.9865 - val_loss: 0.1702 - val_accuracy: 0.9667\n",
            "Epoch 14/20\n",
            "1050/1050 [==============================] - 4s 3ms/step - loss: 0.0738 - accuracy: 0.9864 - val_loss: 0.1544 - val_accuracy: 0.9686\n",
            "Epoch 15/20\n",
            "1050/1050 [==============================] - 6s 6ms/step - loss: 0.0659 - accuracy: 0.9880 - val_loss: 0.1704 - val_accuracy: 0.9646\n",
            "Epoch 16/20\n",
            "1050/1050 [==============================] - 4s 4ms/step - loss: 0.0667 - accuracy: 0.9886 - val_loss: 0.1531 - val_accuracy: 0.9677\n",
            "Epoch 17/20\n",
            "1050/1050 [==============================] - 4s 4ms/step - loss: 0.0593 - accuracy: 0.9902 - val_loss: 0.1741 - val_accuracy: 0.9662\n",
            "Epoch 18/20\n",
            "1050/1050 [==============================] - 4s 4ms/step - loss: 0.0556 - accuracy: 0.9904 - val_loss: 0.1473 - val_accuracy: 0.9706\n",
            "Epoch 19/20\n",
            "1050/1050 [==============================] - 4s 3ms/step - loss: 0.0603 - accuracy: 0.9895 - val_loss: 0.1341 - val_accuracy: 0.9740\n",
            "Epoch 20/20\n",
            "1050/1050 [==============================] - 4s 4ms/step - loss: 0.0464 - accuracy: 0.9928 - val_loss: 0.1603 - val_accuracy: 0.9690\n"
          ]
        }
      ]
    },
    {
      "cell_type": "markdown",
      "metadata": {
        "id": "xWMGcb1xPGZt"
      },
      "source": [
        "###6. Evaluation"
      ]
    },
    {
      "cell_type": "markdown",
      "metadata": {
        "id": "l-vtFLPMPJk-"
      },
      "source": [
        "1. Save the best model in google drive and load it after finishing the training\n",
        "2. print a confusion matrix and classification report for the model predictions on the validation set\n",
        "3. submit predictions on the test set on kaggle\n"
      ]
    },
    {
      "cell_type": "code",
      "source": [
        "from sklearn.metrics import confusion_matrix, classification_report\n",
        "\n",
        "\n",
        "\n",
        "\n",
        "# Save the best model to Google Drive\n",
        "model.save('/content/drive/MyDrive/lfd_ass2/best_model.h5')\n",
        "\n",
        "# Load the saved model\n",
        "loaded_model = tf.keras.models.load_model('/content/drive/MyDrive/lfd_ass2/best_model.h5')\n",
        "\n",
        "# Predictions on the validation set\n",
        "val_predictions = loaded_model.predict(X_val)\n",
        "val_predicted_classes = np.argmax(val_predictions, axis=1)\n",
        "\n",
        "# Confusion Matrix and Classification Report\n",
        "conf_matrix = confusion_matrix(y_val, val_predicted_classes)\n",
        "class_report = classification_report(y_val, val_predicted_classes)\n",
        "\n",
        "print(\"Confusion Matrix:\\n\", conf_matrix)\n",
        "print(\"\\nClassification Report:\\n\", class_report)\n",
        "\n",
        "\n",
        "# Assuming 'test' is your test set for Kaggle\n",
        "# Predictions on the test set\n",
        "test_predictions = loaded_model.predict(test)\n",
        "test_predicted_classes = np.argmax(test_predictions, axis=1)\n",
        "\n",
        "# Prepare the submission file\n",
        "submission_df = pd.DataFrame({'ImageId': range(1, len(test) + 1), 'Label': test_predicted_classes})\n",
        "\n",
        "# Save the submission file\n",
        "submission_df.to_csv('/content/drive/MyDrive/lfd_ass2/submission.csv', index=False)\n"
      ],
      "metadata": {
        "colab": {
          "base_uri": "https://localhost:8080/"
        },
        "id": "32XjrgWAxA0b",
        "outputId": "1f8cfbdf-163a-4605-ddf1-026f3de3842f"
      },
      "execution_count": 16,
      "outputs": [
        {
          "output_type": "stream",
          "name": "stderr",
          "text": [
            "You are saving your model as an HDF5 file via `model.save()`. This file format is considered legacy. We recommend using instead the native Keras format, e.g. `model.save('my_model.keras')`.\n"
          ]
        },
        {
          "output_type": "stream",
          "name": "stdout",
          "text": [
            "263/263 [==============================] - 1s 2ms/step\n",
            "Confusion Matrix:\n",
            " [[796   0   7   0   0   1   9   1   0   2]\n",
            " [  0 903   5   0   0   0   0   0   1   0]\n",
            " [  1   6 831   1   4   0   0   2   0   1]\n",
            " [  1   1  14 908   0   2   1   4   2   4]\n",
            " [  2   5   5   0 802   0  10   0   0  15]\n",
            " [  0   1   0  17   0 664  11   1   4   4]\n",
            " [  2   2   4   0   0   4 769   0   4   0]\n",
            " [  0   1  14   1   3   0   0 865   0   9]\n",
            " [  1  10  11   7   3   2   5   2 788   6]\n",
            " [  0   3   1   8   7   1   0   3   1 814]]\n",
            "\n",
            "Classification Report:\n",
            "               precision    recall  f1-score   support\n",
            "\n",
            "           0       0.99      0.98      0.98       816\n",
            "           1       0.97      0.99      0.98       909\n",
            "           2       0.93      0.98      0.96       846\n",
            "           3       0.96      0.97      0.97       937\n",
            "           4       0.98      0.96      0.97       839\n",
            "           5       0.99      0.95      0.97       702\n",
            "           6       0.96      0.98      0.97       785\n",
            "           7       0.99      0.97      0.98       893\n",
            "           8       0.98      0.94      0.96       835\n",
            "           9       0.95      0.97      0.96       838\n",
            "\n",
            "    accuracy                           0.97      8400\n",
            "   macro avg       0.97      0.97      0.97      8400\n",
            "weighted avg       0.97      0.97      0.97      8400\n",
            "\n",
            "875/875 [==============================] - 2s 2ms/step\n"
          ]
        }
      ]
    },
    {
      "cell_type": "markdown",
      "metadata": {
        "id": "PoegzTvzPeel"
      },
      "source": [
        "###7. Deployment and Explainability"
      ]
    },
    {
      "cell_type": "markdown",
      "metadata": {
        "id": "lD5S3ZWcPlFk"
      },
      "source": [
        "1. Use gardio to enable me uploading a gray scale 28 by 28 image and then output the predicted class\n",
        "2. use shap values on the uploaded image and show it to me in the gardio app with the predicted class"
      ]
    },
    {
      "cell_type": "code",
      "execution_count": 19,
      "metadata": {
        "id": "EgwGgCNAP6Ne",
        "colab": {
          "base_uri": "https://localhost:8080/",
          "height": 630
        },
        "outputId": "88f0e679-e491-43b3-a25a-a3f38b2ba58b"
      },
      "outputs": [
        {
          "output_type": "stream",
          "name": "stdout",
          "text": [
            "Setting queue=True in a Colab notebook requires sharing enabled. Setting `share=True` (you can turn this off by setting `share=False` in `launch()` explicitly).\n",
            "\n",
            "Colab notebook detected. To show errors in colab notebook, set debug=True in launch()\n",
            "Running on public URL: https://c02fc5560bf7f663aa.gradio.live\n",
            "\n",
            "This share link expires in 72 hours. For free permanent hosting and GPU upgrades, run `gradio deploy` from Terminal to deploy to Spaces (https://huggingface.co/spaces)\n"
          ]
        },
        {
          "output_type": "display_data",
          "data": {
            "text/plain": [
              "<IPython.core.display.HTML object>"
            ],
            "text/html": [
              "<div><iframe src=\"https://c02fc5560bf7f663aa.gradio.live\" width=\"100%\" height=\"500\" allow=\"autoplay; camera; microphone; clipboard-read; clipboard-write;\" frameborder=\"0\" allowfullscreen></iframe></div>"
            ]
          },
          "metadata": {}
        },
        {
          "output_type": "execute_result",
          "data": {
            "text/plain": []
          },
          "metadata": {},
          "execution_count": 19
        }
      ],
      "source": [
        "import gradio as gr\n",
        "import shap\n",
        "import cv2\n",
        "import numpy as np\n",
        "import matplotlib.pyplot as plt\n",
        "\n",
        "# Load the SHAP explainer\n",
        "explainer = shap.Explainer(loaded_model, X_train)\n",
        "\n",
        "# Define the Gradio function for predictions and SHAP visualization\n",
        "def predict_and_explain(image):\n",
        "    # Convert the uploaded image to the format expected by the model\n",
        "    img_array = cv2.cvtColor(image.astype('uint8'), cv2.COLOR_BGR2GRAY).reshape(1, 784) / 255.0\n",
        "\n",
        "    # Predict the class\n",
        "    prediction = loaded_model.predict(img_array)\n",
        "    predicted_class = np.argmax(prediction)\n",
        "\n",
        "    # Get SHAP values\n",
        "    shap_values = explainer.shap_values(img_array)\n",
        "\n",
        "    # Display the image\n",
        "    plt.imshow(img_array.reshape(28, 28), cmap='gray')\n",
        "    plt.title(f\"Predicted Class: {predicted_class}\")\n",
        "    plt.show()\n",
        "\n",
        "    # Display SHAP values\n",
        "    shap.summary_plot(shap_values[0], img_array, feature_names=np.arange(784).astype(str))\n",
        "\n",
        "    return f\"Predicted Class: {predicted_class}\"\n",
        "\n",
        "# Create Gradio Interface\n",
        "iface = gr.Interface(\n",
        "    fn=predict_and_explain,\n",
        "    inputs=gr.Image(type=\"numpy\", image_mode=\"L\"),\n",
        "   # outputs=\"text\"  # to get text\n",
        "    outputs=\"image\"  #to get image\n",
        ")\n",
        "\n",
        "# Launch Gradio Interface\n",
        "iface.launch()\n"
      ]
    }
  ],
  "metadata": {
    "colab": {
      "provenance": [],
      "gpuType": "T4",
      "include_colab_link": true
    },
    "kernelspec": {
      "display_name": "Python 3",
      "name": "python3"
    },
    "language_info": {
      "name": "python"
    },
    "accelerator": "GPU"
  },
  "nbformat": 4,
  "nbformat_minor": 0
}